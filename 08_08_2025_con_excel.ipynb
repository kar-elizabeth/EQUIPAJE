{
  "nbformat": 4,
  "nbformat_minor": 0,
  "metadata": {
    "colab": {
      "provenance": [],
      "authorship_tag": "ABX9TyORiSMvMdwIFFeZK2yXrs0q",
      "include_colab_link": true
    },
    "kernelspec": {
      "name": "python3",
      "display_name": "Python 3"
    },
    "language_info": {
      "name": "python"
    }
  },
  "cells": [
    {
      "cell_type": "markdown",
      "metadata": {
        "id": "view-in-github",
        "colab_type": "text"
      },
      "source": [
        "<a href=\"https://colab.research.google.com/github/kar-elizabeth/EQUIPAJE/blob/main/08_08_2025_con_excel.ipynb\" target=\"_parent\"><img src=\"https://colab.research.google.com/assets/colab-badge.svg\" alt=\"Open In Colab\"/></a>"
      ]
    },
    {
      "cell_type": "code",
      "execution_count": null,
      "metadata": {
        "colab": {
          "base_uri": "https://localhost:8080/"
        },
        "id": "c8aP92XcJw6S",
        "outputId": "cb166e23-5dc1-4b22-c7d9-d49305dd4c0e"
      },
      "outputs": [
        {
          "output_type": "stream",
          "name": "stdout",
          "text": [
            "Ranking de CODIGO_ORIGEN en hoja \"Guadalajara\" para categoría Negativo:\n",
            "CODIGO_ORIGEN\n",
            "GUAD     465\n",
            "TZAP      98\n",
            "COLI      63\n",
            "MANZ      55\n",
            "MAZAT     54\n",
            "PTO.V     46\n",
            "TTLAQ     30\n",
            "GUZ       21\n",
            "AHUT      17\n",
            "MELA      15\n",
            "PSOL      14\n",
            "SAHU      10\n",
            "MEZCA      8\n",
            "C.C.       5\n",
            "ARAN       5\n",
            "TECO       4\n",
            "NVOV       4\n",
            "CIHUA      3\n",
            "HUER       3\n",
            "BAR        3\n",
            "GUAYA      3\n",
            "ATOT       3\n",
            "GUAEJ      3\n",
            "OCO        2\n",
            "GUADC      1\n",
            "U.TUL      1\n",
            "SAYUL      1\n",
            "TOMA       1\n",
            "JIQI       1\n",
            "Name: count, dtype: int64\n",
            "\n",
            "--------------------------------------------------\n",
            "\n",
            "Ranking de CODIGO_ORIGEN en hoja \"México\" para categoría Negativo:\n",
            "CODIGO_ORIGEN\n",
            "MEX      779\n",
            "COAPA    101\n",
            "PSTFE     64\n",
            "AEMEX     61\n",
            "ANGMX     42\n",
            "MEXOB     34\n",
            "AMEX2     33\n",
            "TEPO      24\n",
            "PLACJ     23\n",
            "TLANE     21\n",
            "P.AME     18\n",
            "AIFA1     15\n",
            "HCBCA      6\n",
            "Name: count, dtype: int64\n",
            "\n",
            "--------------------------------------------------\n",
            "\n",
            "Ranking de CODIGO_ORIGEN en hoja \"Irapuato\" para categoría Negativo:\n",
            "CODIGO_ORIGEN\n",
            "RI      134\n",
            "ZAM      55\n",
            "PIED     33\n",
            "SALA     26\n",
            "REY      10\n",
            "VA        4\n",
            "PURU      2\n",
            "COTI      1\n",
            "Name: count, dtype: int64\n",
            "\n",
            "--------------------------------------------------\n",
            "\n",
            "Ranking de CODIGO_ORIGEN en hoja \"Morelia\" para categoría Negativo:\n",
            "CODIGO_ORIGEN\n",
            "MORE     188\n",
            "URU       24\n",
            "PATZ       9\n",
            "IXTA       5\n",
            "ZIHUA      3\n",
            "APAT       3\n",
            "ZACA       1\n",
            "Name: count, dtype: int64\n",
            "\n",
            "--------------------------------------------------\n",
            "\n",
            "Ranking de CODIGO_ORIGEN en hoja \"Querétaro\" para categoría Negativo:\n",
            "CODIGO_ORIGEN\n",
            "QRO      785\n",
            "TOL       77\n",
            "ATLA      21\n",
            "QROTN     11\n",
            "JALPA      3\n",
            "SJR        2\n",
            "TULA       1\n",
            "AEQRO      1\n",
            "AGUG       1\n",
            "Name: count, dtype: int64\n",
            "\n",
            "--------------------------------------------------\n",
            "\n",
            "Ranking de CODIGO_ORIGEN en hoja \"León\" para categoría Negativo:\n",
            "CODIGO_ORIGEN\n",
            "ON       287\n",
            "SLP      142\n",
            "AGS      139\n",
            "GTO       57\n",
            "LGS       12\n",
            "SJLG      11\n",
            "SILA       5\n",
            "AEGTO      1\n",
            "Name: count, dtype: int64\n",
            "\n",
            "--------------------------------------------------\n",
            "\n",
            "Ranking de CODIGO_ORIGEN en hoja \"Celaya\" para categoría Negativo:\n",
            "CODIGO_ORIGEN\n",
            "CYA     135\n",
            "SMA      30\n",
            "MORO     20\n",
            "DOL       1\n",
            "Name: count, dtype: int64\n",
            "\n",
            "--------------------------------------------------\n",
            "\n"
          ]
        }
      ],
      "source": [
        "import pandas as pd\n",
        "\n",
        "# Montar Google Drive para acceder al archivo, si está ahí (opcional)\n",
        "# from google.colab import drive\n",
        "# drive.mount('/content/drive')\n",
        "\n",
        "# Ruta al archivo (ajusta si está en Drive u otra ruta)\n",
        "archivo_excel = 'DIV_ORIGEN_SEPARADO hoja por hoja.xlsx'\n",
        "\n",
        "# Leer todas las hojas del archivo Excel\n",
        "xls = pd.ExcelFile(archivo_excel)\n",
        "hojas = xls.sheet_names\n",
        "\n",
        "# Recorrer cada hoja\n",
        "for hoja in hojas:\n",
        "    df = pd.read_excel(xls, sheet_name=hoja)\n",
        "\n",
        "    # Filtrar filas donde la columna \"CATEGORIA\" sea \"Negativo\"\n",
        "    df_negativo = df[df['CATEGORIA'] == 'Negativo']\n",
        "\n",
        "    # Ranking descendente por frecuencia de \"CODIGO_ORIGEN\"\n",
        "    ranking = df_negativo['CODIGO_ORIGEN'].value_counts()\n",
        "\n",
        "    print(f'Ranking de CODIGO_ORIGEN en hoja \"{hoja}\" para categoría Negativo:')\n",
        "    print(ranking)\n",
        "    print('\\n' + '-'*50 + '\\n')\n"
      ]
    },
    {
      "cell_type": "markdown",
      "source": [
        "entrega del analisis en excel. para función simple de datos"
      ],
      "metadata": {
        "id": "z3knwIoZKNow"
      }
    },
    {
      "cell_type": "code",
      "source": [
        "# Instalar xlsxwriter para guardar archivos Excel con pandas\n",
        "!pip install xlsxwriter\n",
        "\n",
        "import pandas as pd\n",
        "\n",
        "archivo_excel = 'DIV_ORIGEN_SEPARADO hoja por hoja.xlsx'\n",
        "xls = pd.ExcelFile(archivo_excel)\n",
        "hojas = xls.sheet_names\n",
        "\n",
        "rankings_por_hoja = {}\n",
        "\n",
        "for hoja in hojas:\n",
        "    df = pd.read_excel(xls, sheet_name=hoja)\n",
        "    df_negativo = df[df['CATEGORIA'] == 'Negativo']\n",
        "    ranking = df_negativo['CODIGO_ORIGEN'].value_counts().reset_index()\n",
        "    ranking.columns = ['CODIGO_ORIGEN', 'Frecuencia']\n",
        "    rankings_por_hoja[hoja] = ranking\n",
        "\n",
        "archivo_salida = 'ranking_categoria_negativo.xlsx'\n",
        "with pd.ExcelWriter(archivo_salida, engine='xlsxwriter') as writer:\n",
        "    for hoja, ranking_df in rankings_por_hoja.items():\n",
        "        ranking_df.to_excel(writer, sheet_name=hoja[:31], index=False)\n",
        "\n",
        "print(f'Archivo guardado como: {archivo_salida}')\n"
      ],
      "metadata": {
        "colab": {
          "base_uri": "https://localhost:8080/"
        },
        "id": "W7JTx1hJKSvk",
        "outputId": "fc5ab1c0-928e-4aa7-a337-e4515a3fe850"
      },
      "execution_count": null,
      "outputs": [
        {
          "output_type": "stream",
          "name": "stdout",
          "text": [
            "Collecting xlsxwriter\n",
            "  Downloading xlsxwriter-3.2.5-py3-none-any.whl.metadata (2.7 kB)\n",
            "Downloading xlsxwriter-3.2.5-py3-none-any.whl (172 kB)\n",
            "\u001b[?25l   \u001b[90m━━━━━━━━━━━━━━━━━━━━━━━━━━━━━━━━━━━━━━━━\u001b[0m \u001b[32m0.0/172.3 kB\u001b[0m \u001b[31m?\u001b[0m eta \u001b[36m-:--:--\u001b[0m\r\u001b[2K   \u001b[91m━━━━━━━━━━━━━━━━━━━━━━━━━━━━━━━━━━━━━━\u001b[0m\u001b[90m╺\u001b[0m\u001b[90m━\u001b[0m \u001b[32m163.8/172.3 kB\u001b[0m \u001b[31m5.9 MB/s\u001b[0m eta \u001b[36m0:00:01\u001b[0m\r\u001b[2K   \u001b[90m━━━━━━━━━━━━━━━━━━━━━━━━━━━━━━━━━━━━━━━━\u001b[0m \u001b[32m172.3/172.3 kB\u001b[0m \u001b[31m4.5 MB/s\u001b[0m eta \u001b[36m0:00:00\u001b[0m\n",
            "\u001b[?25hInstalling collected packages: xlsxwriter\n",
            "Successfully installed xlsxwriter-3.2.5\n",
            "Archivo guardado como: ranking_categoria_negativo.xlsx\n"
          ]
        }
      ]
    },
    {
      "cell_type": "code",
      "source": [
        "import pandas as pd\n",
        "\n",
        "archivo_excel = 'DIV_ORIGEN_SEPARADO hoja por hoja.xlsx'\n",
        "xls = pd.ExcelFile(archivo_excel)\n",
        "hojas = xls.sheet_names\n",
        "\n",
        "archivo_salida = 'ranking_y_detalle_categoria_negativo.xlsx'\n",
        "\n",
        "with pd.ExcelWriter(archivo_salida, engine='xlsxwriter') as writer:\n",
        "    for hoja in hojas:\n",
        "        df = pd.read_excel(xls, sheet_name=hoja)\n",
        "\n",
        "        # Filtrar filas con categoria 'Negativo' conservando todas las columnas\n",
        "        df_negativo = df[df['CATEGORIA'] == 'Negativo']\n",
        "\n",
        "        # Ranking de CODIGO_ORIGEN\n",
        "        ranking = df_negativo['CODIGO_ORIGEN'].value_counts().reset_index()\n",
        "        ranking.columns = ['CODIGO_ORIGEN', 'Frecuencia']\n",
        "\n",
        "        # Guardar detalle completo en hoja con nombre original + '_detalle' (limitar a 31 caracteres)\n",
        "        detalle_hoja = (hoja[:24] + '_detalle') if len(hoja) > 24 else hoja + '_detalle'\n",
        "        df_negativo.to_excel(writer, sheet_name=detalle_hoja, index=False)\n",
        "\n",
        "        # Guardar ranking en hoja con nombre original + '_ranking'\n",
        "        ranking_hoja = (hoja[:24] + '_ranking') if len(hoja) > 24 else hoja + '_ranking'\n",
        "        ranking.to_excel(writer, sheet_name=ranking_hoja, index=False)\n",
        "\n",
        "print(f'Archivo guardado con detalle y ranking: {archivo_salida}')\n"
      ],
      "metadata": {
        "colab": {
          "base_uri": "https://localhost:8080/"
        },
        "id": "YnIgnrWeK78L",
        "outputId": "84338679-8b65-47e2-fcf9-b03f67750319"
      },
      "execution_count": null,
      "outputs": [
        {
          "output_type": "stream",
          "name": "stdout",
          "text": [
            "Archivo guardado con detalle y ranking: ranking_y_detalle_categoria_negativo.xlsx\n"
          ]
        }
      ]
    },
    {
      "cell_type": "code",
      "source": [
        "import pandas as pd\n",
        "\n",
        "archivo_excel = 'DIV_ORIGEN_SEPARADO hoja por hoja.xlsx'\n",
        "xls = pd.ExcelFile(archivo_excel)\n",
        "hojas = xls.sheet_names\n",
        "\n",
        "archivo_salida = 'ranking_y_detalle_categoria_negativo_ordenado.xlsx'\n",
        "\n",
        "with pd.ExcelWriter(archivo_salida, engine='xlsxwriter') as writer:\n",
        "    for hoja in hojas:\n",
        "        df = pd.read_excel(xls, sheet_name=hoja)\n",
        "\n",
        "        # Filtrar filas con categoria 'Negativo'\n",
        "        df_negativo = df[df['CATEGORIA'] == 'Negativo']\n",
        "\n",
        "        # Ranking de CODIGO_ORIGEN\n",
        "        ranking = df_negativo['CODIGO_ORIGEN'].value_counts().reset_index()\n",
        "        ranking.columns = ['CODIGO_ORIGEN', 'Frecuencia']\n",
        "\n",
        "        # Crear diccionario para ordenamiento: CODIGO_ORIGEN -> rango (menor = más frecuente)\n",
        "        orden_codigos = {codigo: i for i, codigo in enumerate(ranking['CODIGO_ORIGEN'])}\n",
        "\n",
        "        # Agregar columna temporal para ordenar\n",
        "        df_negativo['OrdenRanking'] = df_negativo['CODIGO_ORIGEN'].map(orden_codigos)\n",
        "\n",
        "        # Ordenar por OrdenRanking y luego opcionalmente por otra columna (por ejemplo, índice)\n",
        "        df_negativo_ordenado = df_negativo.sort_values(by=['OrdenRanking']).drop(columns=['OrdenRanking'])\n",
        "\n",
        "        # Guardar detalle ordenado\n",
        "        detalle_hoja = (hoja[:24] + '_detalle') if len(hoja) > 24 else hoja + '_detalle'\n",
        "        df_negativo_ordenado.to_excel(writer, sheet_name=detalle_hoja, index=False)\n",
        "\n",
        "        # Guardar ranking\n",
        "        ranking_hoja = (hoja[:24] + '_ranking') if len(hoja) > 24 else hoja + '_ranking'\n",
        "        ranking.to_excel(writer, sheet_name=ranking_hoja, index=False)\n",
        "\n",
        "print(f'Archivo guardado con detalle ordenado y ranking: {archivo_salida}')\n"
      ],
      "metadata": {
        "colab": {
          "base_uri": "https://localhost:8080/"
        },
        "id": "7n8NGxuQMKUE",
        "outputId": "3576ab29-4ba2-4392-ac54-a93448475311"
      },
      "execution_count": null,
      "outputs": [
        {
          "output_type": "stream",
          "name": "stderr",
          "text": [
            "/tmp/ipython-input-2134046479.py:24: SettingWithCopyWarning: \n",
            "A value is trying to be set on a copy of a slice from a DataFrame.\n",
            "Try using .loc[row_indexer,col_indexer] = value instead\n",
            "\n",
            "See the caveats in the documentation: https://pandas.pydata.org/pandas-docs/stable/user_guide/indexing.html#returning-a-view-versus-a-copy\n",
            "  df_negativo['OrdenRanking'] = df_negativo['CODIGO_ORIGEN'].map(orden_codigos)\n",
            "/tmp/ipython-input-2134046479.py:24: SettingWithCopyWarning: \n",
            "A value is trying to be set on a copy of a slice from a DataFrame.\n",
            "Try using .loc[row_indexer,col_indexer] = value instead\n",
            "\n",
            "See the caveats in the documentation: https://pandas.pydata.org/pandas-docs/stable/user_guide/indexing.html#returning-a-view-versus-a-copy\n",
            "  df_negativo['OrdenRanking'] = df_negativo['CODIGO_ORIGEN'].map(orden_codigos)\n",
            "/tmp/ipython-input-2134046479.py:24: SettingWithCopyWarning: \n",
            "A value is trying to be set on a copy of a slice from a DataFrame.\n",
            "Try using .loc[row_indexer,col_indexer] = value instead\n",
            "\n",
            "See the caveats in the documentation: https://pandas.pydata.org/pandas-docs/stable/user_guide/indexing.html#returning-a-view-versus-a-copy\n",
            "  df_negativo['OrdenRanking'] = df_negativo['CODIGO_ORIGEN'].map(orden_codigos)\n",
            "/tmp/ipython-input-2134046479.py:24: SettingWithCopyWarning: \n",
            "A value is trying to be set on a copy of a slice from a DataFrame.\n",
            "Try using .loc[row_indexer,col_indexer] = value instead\n",
            "\n",
            "See the caveats in the documentation: https://pandas.pydata.org/pandas-docs/stable/user_guide/indexing.html#returning-a-view-versus-a-copy\n",
            "  df_negativo['OrdenRanking'] = df_negativo['CODIGO_ORIGEN'].map(orden_codigos)\n",
            "/tmp/ipython-input-2134046479.py:24: SettingWithCopyWarning: \n",
            "A value is trying to be set on a copy of a slice from a DataFrame.\n",
            "Try using .loc[row_indexer,col_indexer] = value instead\n",
            "\n",
            "See the caveats in the documentation: https://pandas.pydata.org/pandas-docs/stable/user_guide/indexing.html#returning-a-view-versus-a-copy\n",
            "  df_negativo['OrdenRanking'] = df_negativo['CODIGO_ORIGEN'].map(orden_codigos)\n",
            "/tmp/ipython-input-2134046479.py:24: SettingWithCopyWarning: \n",
            "A value is trying to be set on a copy of a slice from a DataFrame.\n",
            "Try using .loc[row_indexer,col_indexer] = value instead\n",
            "\n",
            "See the caveats in the documentation: https://pandas.pydata.org/pandas-docs/stable/user_guide/indexing.html#returning-a-view-versus-a-copy\n",
            "  df_negativo['OrdenRanking'] = df_negativo['CODIGO_ORIGEN'].map(orden_codigos)\n",
            "/tmp/ipython-input-2134046479.py:24: SettingWithCopyWarning: \n",
            "A value is trying to be set on a copy of a slice from a DataFrame.\n",
            "Try using .loc[row_indexer,col_indexer] = value instead\n",
            "\n",
            "See the caveats in the documentation: https://pandas.pydata.org/pandas-docs/stable/user_guide/indexing.html#returning-a-view-versus-a-copy\n",
            "  df_negativo['OrdenRanking'] = df_negativo['CODIGO_ORIGEN'].map(orden_codigos)\n"
          ]
        },
        {
          "output_type": "stream",
          "name": "stdout",
          "text": [
            "Archivo guardado con detalle ordenado y ranking: ranking_y_detalle_categoria_negativo_ordenado.xlsx\n"
          ]
        }
      ]
    },
    {
      "cell_type": "code",
      "source": [],
      "metadata": {
        "id": "5dr-M8-MNAWs"
      },
      "execution_count": null,
      "outputs": []
    }
  ]
}